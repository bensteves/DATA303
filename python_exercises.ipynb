{
  "nbformat": 4,
  "nbformat_minor": 0,
  "metadata": {
    "colab": {
      "name": "python-exercises.ipynb",
      "provenance": [],
      "collapsed_sections": []
    },
    "kernelspec": {
      "name": "python3",
      "display_name": "Python 3"
    },
    "language_info": {
      "name": "python"
    }
  },
  "cells": [
    {
      "cell_type": "markdown",
      "source": [
        "## Python Exercises\n",
        "##### Ben Steves\n",
        "##### DATA 303\n",
        "##### 3-28-22"
      ],
      "metadata": {
        "id": "oCs05a1g1oAG"
      }
    },
    {
      "cell_type": "code",
      "source": [
        "import pandas as pd\n",
        "import numpy as np\n",
        "from sklearn.linear_model import LinearRegression\n",
        "from sklearn.model_selection import train_test_split\n",
        "from sklearn.preprocessing import LabelEncoder\n",
        "from sklearn.metrics import mean_squared_error\n",
        "import string as str\n",
        "import sklearn"
      ],
      "metadata": {
        "id": "g5gCh0N_7DJa"
      },
      "execution_count": 1,
      "outputs": []
    },
    {
      "cell_type": "code",
      "source": [
        "words = pd.read_csv(\"https://raw.githubusercontent.com/seanpatlan/wordle-words/main/word-bank.csv\", header=None)"
      ],
      "metadata": {
        "id": "yilYiK8E6vgM"
      },
      "execution_count": 2,
      "outputs": []
    },
    {
      "cell_type": "code",
      "source": [
        "words.head()"
      ],
      "metadata": {
        "colab": {
          "base_uri": "https://localhost:8080/",
          "height": 206
        },
        "id": "ijBPm-d28SdK",
        "outputId": "ab7dbe8e-6ca4-4ac8-9077-f675e68bc4c5"
      },
      "execution_count": 3,
      "outputs": [
        {
          "output_type": "execute_result",
          "data": {
            "text/plain": [
              "       0\n",
              "0  aback\n",
              "1  abase\n",
              "2  abate\n",
              "3  abbey\n",
              "4  abbot"
            ],
            "text/html": [
              "\n",
              "  <div id=\"df-4874e64f-acdc-4c35-ab73-83e2d6b9b99d\">\n",
              "    <div class=\"colab-df-container\">\n",
              "      <div>\n",
              "<style scoped>\n",
              "    .dataframe tbody tr th:only-of-type {\n",
              "        vertical-align: middle;\n",
              "    }\n",
              "\n",
              "    .dataframe tbody tr th {\n",
              "        vertical-align: top;\n",
              "    }\n",
              "\n",
              "    .dataframe thead th {\n",
              "        text-align: right;\n",
              "    }\n",
              "</style>\n",
              "<table border=\"1\" class=\"dataframe\">\n",
              "  <thead>\n",
              "    <tr style=\"text-align: right;\">\n",
              "      <th></th>\n",
              "      <th>0</th>\n",
              "    </tr>\n",
              "  </thead>\n",
              "  <tbody>\n",
              "    <tr>\n",
              "      <th>0</th>\n",
              "      <td>aback</td>\n",
              "    </tr>\n",
              "    <tr>\n",
              "      <th>1</th>\n",
              "      <td>abase</td>\n",
              "    </tr>\n",
              "    <tr>\n",
              "      <th>2</th>\n",
              "      <td>abate</td>\n",
              "    </tr>\n",
              "    <tr>\n",
              "      <th>3</th>\n",
              "      <td>abbey</td>\n",
              "    </tr>\n",
              "    <tr>\n",
              "      <th>4</th>\n",
              "      <td>abbot</td>\n",
              "    </tr>\n",
              "  </tbody>\n",
              "</table>\n",
              "</div>\n",
              "      <button class=\"colab-df-convert\" onclick=\"convertToInteractive('df-4874e64f-acdc-4c35-ab73-83e2d6b9b99d')\"\n",
              "              title=\"Convert this dataframe to an interactive table.\"\n",
              "              style=\"display:none;\">\n",
              "        \n",
              "  <svg xmlns=\"http://www.w3.org/2000/svg\" height=\"24px\"viewBox=\"0 0 24 24\"\n",
              "       width=\"24px\">\n",
              "    <path d=\"M0 0h24v24H0V0z\" fill=\"none\"/>\n",
              "    <path d=\"M18.56 5.44l.94 2.06.94-2.06 2.06-.94-2.06-.94-.94-2.06-.94 2.06-2.06.94zm-11 1L8.5 8.5l.94-2.06 2.06-.94-2.06-.94L8.5 2.5l-.94 2.06-2.06.94zm10 10l.94 2.06.94-2.06 2.06-.94-2.06-.94-.94-2.06-.94 2.06-2.06.94z\"/><path d=\"M17.41 7.96l-1.37-1.37c-.4-.4-.92-.59-1.43-.59-.52 0-1.04.2-1.43.59L10.3 9.45l-7.72 7.72c-.78.78-.78 2.05 0 2.83L4 21.41c.39.39.9.59 1.41.59.51 0 1.02-.2 1.41-.59l7.78-7.78 2.81-2.81c.8-.78.8-2.07 0-2.86zM5.41 20L4 18.59l7.72-7.72 1.47 1.35L5.41 20z\"/>\n",
              "  </svg>\n",
              "      </button>\n",
              "      \n",
              "  <style>\n",
              "    .colab-df-container {\n",
              "      display:flex;\n",
              "      flex-wrap:wrap;\n",
              "      gap: 12px;\n",
              "    }\n",
              "\n",
              "    .colab-df-convert {\n",
              "      background-color: #E8F0FE;\n",
              "      border: none;\n",
              "      border-radius: 50%;\n",
              "      cursor: pointer;\n",
              "      display: none;\n",
              "      fill: #1967D2;\n",
              "      height: 32px;\n",
              "      padding: 0 0 0 0;\n",
              "      width: 32px;\n",
              "    }\n",
              "\n",
              "    .colab-df-convert:hover {\n",
              "      background-color: #E2EBFA;\n",
              "      box-shadow: 0px 1px 2px rgba(60, 64, 67, 0.3), 0px 1px 3px 1px rgba(60, 64, 67, 0.15);\n",
              "      fill: #174EA6;\n",
              "    }\n",
              "\n",
              "    [theme=dark] .colab-df-convert {\n",
              "      background-color: #3B4455;\n",
              "      fill: #D2E3FC;\n",
              "    }\n",
              "\n",
              "    [theme=dark] .colab-df-convert:hover {\n",
              "      background-color: #434B5C;\n",
              "      box-shadow: 0px 1px 3px 1px rgba(0, 0, 0, 0.15);\n",
              "      filter: drop-shadow(0px 1px 2px rgba(0, 0, 0, 0.3));\n",
              "      fill: #FFFFFF;\n",
              "    }\n",
              "  </style>\n",
              "\n",
              "      <script>\n",
              "        const buttonEl =\n",
              "          document.querySelector('#df-4874e64f-acdc-4c35-ab73-83e2d6b9b99d button.colab-df-convert');\n",
              "        buttonEl.style.display =\n",
              "          google.colab.kernel.accessAllowed ? 'block' : 'none';\n",
              "\n",
              "        async function convertToInteractive(key) {\n",
              "          const element = document.querySelector('#df-4874e64f-acdc-4c35-ab73-83e2d6b9b99d');\n",
              "          const dataTable =\n",
              "            await google.colab.kernel.invokeFunction('convertToInteractive',\n",
              "                                                     [key], {});\n",
              "          if (!dataTable) return;\n",
              "\n",
              "          const docLinkHtml = 'Like what you see? Visit the ' +\n",
              "            '<a target=\"_blank\" href=https://colab.research.google.com/notebooks/data_table.ipynb>data table notebook</a>'\n",
              "            + ' to learn more about interactive tables.';\n",
              "          element.innerHTML = '';\n",
              "          dataTable['output_type'] = 'display_data';\n",
              "          await google.colab.output.renderOutput(dataTable, element);\n",
              "          const docLink = document.createElement('div');\n",
              "          docLink.innerHTML = docLinkHtml;\n",
              "          element.appendChild(docLink);\n",
              "        }\n",
              "      </script>\n",
              "    </div>\n",
              "  </div>\n",
              "  "
            ]
          },
          "metadata": {},
          "execution_count": 3
        }
      ]
    },
    {
      "cell_type": "code",
      "source": [
        "words.rename(columns = {0:'word'}, inplace = True)"
      ],
      "metadata": {
        "id": "LBGOsZ5z9G5d"
      },
      "execution_count": 4,
      "outputs": []
    },
    {
      "cell_type": "code",
      "source": [
        "words.head(10)"
      ],
      "metadata": {
        "colab": {
          "base_uri": "https://localhost:8080/",
          "height": 363
        },
        "id": "lwPxpq1l9Kje",
        "outputId": "b0ff6a5d-3d9c-4ff2-8453-9391126a0180"
      },
      "execution_count": 5,
      "outputs": [
        {
          "output_type": "execute_result",
          "data": {
            "text/plain": [
              "    word\n",
              "0  aback\n",
              "1  abase\n",
              "2  abate\n",
              "3  abbey\n",
              "4  abbot\n",
              "5  abhor\n",
              "6  abide\n",
              "7  abled\n",
              "8  abode\n",
              "9  abort"
            ],
            "text/html": [
              "\n",
              "  <div id=\"df-a96f7961-caa7-4033-8342-70db1452d2be\">\n",
              "    <div class=\"colab-df-container\">\n",
              "      <div>\n",
              "<style scoped>\n",
              "    .dataframe tbody tr th:only-of-type {\n",
              "        vertical-align: middle;\n",
              "    }\n",
              "\n",
              "    .dataframe tbody tr th {\n",
              "        vertical-align: top;\n",
              "    }\n",
              "\n",
              "    .dataframe thead th {\n",
              "        text-align: right;\n",
              "    }\n",
              "</style>\n",
              "<table border=\"1\" class=\"dataframe\">\n",
              "  <thead>\n",
              "    <tr style=\"text-align: right;\">\n",
              "      <th></th>\n",
              "      <th>word</th>\n",
              "    </tr>\n",
              "  </thead>\n",
              "  <tbody>\n",
              "    <tr>\n",
              "      <th>0</th>\n",
              "      <td>aback</td>\n",
              "    </tr>\n",
              "    <tr>\n",
              "      <th>1</th>\n",
              "      <td>abase</td>\n",
              "    </tr>\n",
              "    <tr>\n",
              "      <th>2</th>\n",
              "      <td>abate</td>\n",
              "    </tr>\n",
              "    <tr>\n",
              "      <th>3</th>\n",
              "      <td>abbey</td>\n",
              "    </tr>\n",
              "    <tr>\n",
              "      <th>4</th>\n",
              "      <td>abbot</td>\n",
              "    </tr>\n",
              "    <tr>\n",
              "      <th>5</th>\n",
              "      <td>abhor</td>\n",
              "    </tr>\n",
              "    <tr>\n",
              "      <th>6</th>\n",
              "      <td>abide</td>\n",
              "    </tr>\n",
              "    <tr>\n",
              "      <th>7</th>\n",
              "      <td>abled</td>\n",
              "    </tr>\n",
              "    <tr>\n",
              "      <th>8</th>\n",
              "      <td>abode</td>\n",
              "    </tr>\n",
              "    <tr>\n",
              "      <th>9</th>\n",
              "      <td>abort</td>\n",
              "    </tr>\n",
              "  </tbody>\n",
              "</table>\n",
              "</div>\n",
              "      <button class=\"colab-df-convert\" onclick=\"convertToInteractive('df-a96f7961-caa7-4033-8342-70db1452d2be')\"\n",
              "              title=\"Convert this dataframe to an interactive table.\"\n",
              "              style=\"display:none;\">\n",
              "        \n",
              "  <svg xmlns=\"http://www.w3.org/2000/svg\" height=\"24px\"viewBox=\"0 0 24 24\"\n",
              "       width=\"24px\">\n",
              "    <path d=\"M0 0h24v24H0V0z\" fill=\"none\"/>\n",
              "    <path d=\"M18.56 5.44l.94 2.06.94-2.06 2.06-.94-2.06-.94-.94-2.06-.94 2.06-2.06.94zm-11 1L8.5 8.5l.94-2.06 2.06-.94-2.06-.94L8.5 2.5l-.94 2.06-2.06.94zm10 10l.94 2.06.94-2.06 2.06-.94-2.06-.94-.94-2.06-.94 2.06-2.06.94z\"/><path d=\"M17.41 7.96l-1.37-1.37c-.4-.4-.92-.59-1.43-.59-.52 0-1.04.2-1.43.59L10.3 9.45l-7.72 7.72c-.78.78-.78 2.05 0 2.83L4 21.41c.39.39.9.59 1.41.59.51 0 1.02-.2 1.41-.59l7.78-7.78 2.81-2.81c.8-.78.8-2.07 0-2.86zM5.41 20L4 18.59l7.72-7.72 1.47 1.35L5.41 20z\"/>\n",
              "  </svg>\n",
              "      </button>\n",
              "      \n",
              "  <style>\n",
              "    .colab-df-container {\n",
              "      display:flex;\n",
              "      flex-wrap:wrap;\n",
              "      gap: 12px;\n",
              "    }\n",
              "\n",
              "    .colab-df-convert {\n",
              "      background-color: #E8F0FE;\n",
              "      border: none;\n",
              "      border-radius: 50%;\n",
              "      cursor: pointer;\n",
              "      display: none;\n",
              "      fill: #1967D2;\n",
              "      height: 32px;\n",
              "      padding: 0 0 0 0;\n",
              "      width: 32px;\n",
              "    }\n",
              "\n",
              "    .colab-df-convert:hover {\n",
              "      background-color: #E2EBFA;\n",
              "      box-shadow: 0px 1px 2px rgba(60, 64, 67, 0.3), 0px 1px 3px 1px rgba(60, 64, 67, 0.15);\n",
              "      fill: #174EA6;\n",
              "    }\n",
              "\n",
              "    [theme=dark] .colab-df-convert {\n",
              "      background-color: #3B4455;\n",
              "      fill: #D2E3FC;\n",
              "    }\n",
              "\n",
              "    [theme=dark] .colab-df-convert:hover {\n",
              "      background-color: #434B5C;\n",
              "      box-shadow: 0px 1px 3px 1px rgba(0, 0, 0, 0.15);\n",
              "      filter: drop-shadow(0px 1px 2px rgba(0, 0, 0, 0.3));\n",
              "      fill: #FFFFFF;\n",
              "    }\n",
              "  </style>\n",
              "\n",
              "      <script>\n",
              "        const buttonEl =\n",
              "          document.querySelector('#df-a96f7961-caa7-4033-8342-70db1452d2be button.colab-df-convert');\n",
              "        buttonEl.style.display =\n",
              "          google.colab.kernel.accessAllowed ? 'block' : 'none';\n",
              "\n",
              "        async function convertToInteractive(key) {\n",
              "          const element = document.querySelector('#df-a96f7961-caa7-4033-8342-70db1452d2be');\n",
              "          const dataTable =\n",
              "            await google.colab.kernel.invokeFunction('convertToInteractive',\n",
              "                                                     [key], {});\n",
              "          if (!dataTable) return;\n",
              "\n",
              "          const docLinkHtml = 'Like what you see? Visit the ' +\n",
              "            '<a target=\"_blank\" href=https://colab.research.google.com/notebooks/data_table.ipynb>data table notebook</a>'\n",
              "            + ' to learn more about interactive tables.';\n",
              "          element.innerHTML = '';\n",
              "          dataTable['output_type'] = 'display_data';\n",
              "          await google.colab.output.renderOutput(dataTable, element);\n",
              "          const docLink = document.createElement('div');\n",
              "          docLink.innerHTML = docLinkHtml;\n",
              "          element.appendChild(docLink);\n",
              "        }\n",
              "      </script>\n",
              "    </div>\n",
              "  </div>\n",
              "  "
            ]
          },
          "metadata": {},
          "execution_count": 5
        }
      ]
    },
    {
      "cell_type": "markdown",
      "source": [
        "### 1 A"
      ],
      "metadata": {
        "id": "ax-y6aNf-ZSO"
      }
    },
    {
      "cell_type": "code",
      "source": [
        "len(words)"
      ],
      "metadata": {
        "colab": {
          "base_uri": "https://localhost:8080/"
        },
        "id": "BnMM_jic-ed5",
        "outputId": "1ade0fa0-abd8-406c-8ced-82d168ba1ae4"
      },
      "execution_count": 6,
      "outputs": [
        {
          "output_type": "execute_result",
          "data": {
            "text/plain": [
              "2315"
            ]
          },
          "metadata": {},
          "execution_count": 6
        }
      ]
    },
    {
      "cell_type": "markdown",
      "source": [
        "There are 2315 words in this file"
      ],
      "metadata": {
        "id": "cVfs1uy1-pFY"
      }
    },
    {
      "cell_type": "markdown",
      "source": [
        "### 1B"
      ],
      "metadata": {
        "id": "o67phOpa-v01"
      }
    },
    {
      "cell_type": "code",
      "source": [
        "words['startsQ'] = words['word'].str.startswith(\"q\")\n",
        "len(words[words['startsQ']==True])"
      ],
      "metadata": {
        "colab": {
          "base_uri": "https://localhost:8080/"
        },
        "id": "t92ztasS-oG0",
        "outputId": "a6736d99-56bf-41f3-b5ca-f527b26d7392"
      },
      "execution_count": 7,
      "outputs": [
        {
          "output_type": "execute_result",
          "data": {
            "text/plain": [
              "23"
            ]
          },
          "metadata": {},
          "execution_count": 7
        }
      ]
    },
    {
      "cell_type": "markdown",
      "source": [
        "There are 23 words that start with Q"
      ],
      "metadata": {
        "id": "PrJnoK9_BAt5"
      }
    },
    {
      "cell_type": "markdown",
      "source": [
        "### 1C"
      ],
      "metadata": {
        "id": "oF6d4ayuJwNg"
      }
    },
    {
      "cell_type": "code",
      "source": [
        "#function returns true if repeated letters\n",
        "#false otherwise\n",
        "def repeats(string):\n",
        "  duplicates = []\n",
        "  for i in range(len(string)):\n",
        "    if string[i] in duplicates:\n",
        "      return True\n",
        "      break\n",
        "    duplicates.append(string[i])\n",
        "  return False"
      ],
      "metadata": {
        "id": "TPwxv8kjJv60"
      },
      "execution_count": 8,
      "outputs": []
    },
    {
      "cell_type": "code",
      "source": [
        "words['duplicate'] = words['word'].apply(repeats)\n",
        "len(words[words['duplicate']==True])"
      ],
      "metadata": {
        "colab": {
          "base_uri": "https://localhost:8080/"
        },
        "id": "K0evk7qdN7vS",
        "outputId": "e244a0f9-240f-4d6f-be04-7019c865f9b8"
      },
      "execution_count": 9,
      "outputs": [
        {
          "output_type": "execute_result",
          "data": {
            "text/plain": [
              "749"
            ]
          },
          "metadata": {},
          "execution_count": 9
        }
      ]
    },
    {
      "cell_type": "markdown",
      "source": [
        "There are 749 words with one repeated letter"
      ],
      "metadata": {
        "id": "Q7gYVGegUfhl"
      }
    },
    {
      "cell_type": "markdown",
      "source": [
        "### 1D"
      ],
      "metadata": {
        "id": "0DwzTa51U_tP"
      }
    },
    {
      "cell_type": "code",
      "source": [
        "#using this function for next two questions\n",
        "\n",
        "''' checkWordsForLetters returns a matrix. Adds the value 1 to matrix indexes where a letter \n",
        "from input  \"letters\" is present in a word from input \"words\", and a 0 is added otherwise'''\n",
        "def checkWordsForLetters(words, letters):\n",
        "\n",
        "  #create empty matrix w/ rows as the words and columns as letters\n",
        "  matrix = np.empty((len(words), len(letters)))\n",
        "\n",
        "  for i in range(len(words)): #for each word\n",
        "    for j in range(len(letters)): #for each letter\n",
        "      if letters[j] in words[i]: #check if letter at index j is in the current word\n",
        "        matrix[i, j] = 1 #for this word, add a 1 each time a matching letter is found\n",
        "      else:\n",
        "        matrix[i, j] = 0 #add 0 if no match\n",
        "\n",
        "  return matrix\n"
      ],
      "metadata": {
        "id": "8fuDdPsFQ8xb"
      },
      "execution_count": 10,
      "outputs": []
    },
    {
      "cell_type": "code",
      "source": [
        "word_list = words['word'].to_list() #get word values\n",
        "letters = 'abcdefghijklmnopqrstuvwxyz' #storing letters in a string\n",
        "matrix1 = checkWordsForLetters(word_list, letters)"
      ],
      "metadata": {
        "id": "zeYrU6fKVBAc"
      },
      "execution_count": 11,
      "outputs": []
    },
    {
      "cell_type": "code",
      "source": [
        "#create df and use letters as columns and add to matrix\n",
        "letter_sums = pd.DataFrame(matrix1, columns = list(letters)) \n",
        "\n",
        "#merely to check correct word maps to correct matrix values\n",
        "letter_sums['word'] = word_list \n",
        "\n",
        "#sum by letter and sort\n",
        "letter_sums = letter_sums.drop('word', axis=1).sum(axis=0)\n",
        "print(letter_sums.sort_values(ascending=False), '\\n',(letter_sums/len(word_list)).sort_values(ascending=False))"
      ],
      "metadata": {
        "colab": {
          "base_uri": "https://localhost:8080/"
        },
        "id": "n-UMUyJ7cmOG",
        "outputId": "cc7ebd2a-44e7-4fdf-d33d-0609438d3c6c"
      },
      "execution_count": 12,
      "outputs": [
        {
          "output_type": "stream",
          "name": "stdout",
          "text": [
            "e    1056.0\n",
            "a     909.0\n",
            "r     837.0\n",
            "o     673.0\n",
            "t     667.0\n",
            "l     648.0\n",
            "i     647.0\n",
            "s     618.0\n",
            "n     550.0\n",
            "u     457.0\n",
            "c     448.0\n",
            "y     417.0\n",
            "h     379.0\n",
            "d     370.0\n",
            "p     346.0\n",
            "g     300.0\n",
            "m     298.0\n",
            "b     267.0\n",
            "f     207.0\n",
            "k     202.0\n",
            "w     194.0\n",
            "v     149.0\n",
            "x      37.0\n",
            "z      35.0\n",
            "q      29.0\n",
            "j      27.0\n",
            "dtype: float64 \n",
            " e    0.456156\n",
            "a    0.392657\n",
            "r    0.361555\n",
            "o    0.290713\n",
            "t    0.288121\n",
            "l    0.279914\n",
            "i    0.279482\n",
            "s    0.266955\n",
            "n    0.237581\n",
            "u    0.197408\n",
            "c    0.193521\n",
            "y    0.180130\n",
            "h    0.163715\n",
            "d    0.159827\n",
            "p    0.149460\n",
            "g    0.129590\n",
            "m    0.128726\n",
            "b    0.115335\n",
            "f    0.089417\n",
            "k    0.087257\n",
            "w    0.083801\n",
            "v    0.064363\n",
            "x    0.015983\n",
            "z    0.015119\n",
            "q    0.012527\n",
            "j    0.011663\n",
            "dtype: float64\n"
          ]
        }
      ]
    },
    {
      "cell_type": "markdown",
      "source": [
        "### 1E"
      ],
      "metadata": {
        "id": "xlTJFvZmvNaY"
      }
    },
    {
      "cell_type": "markdown",
      "source": [
        "I'm going to return words without traditional vowels. This is in response to me not getting \"nymph\" from a few days ago."
      ],
      "metadata": {
        "id": "RHPoG8w7vQkJ"
      }
    },
    {
      "cell_type": "code",
      "source": [
        "#similar idea to last one, except count across the columns this time\n",
        "vowels = 'aeiou'\n",
        "matrix2 = checkWordsForLetters(word_list, vowels)\n",
        "\n",
        "no_vowel_words = pd.DataFrame(matrix2, columns = list(vowels))\n",
        "no_vowel_words['word'] = word_list\n",
        "\n",
        "no_vowel_words['unique_vowels'] = no_vowel_words.drop('word', axis=1).sum(axis=1)\n",
        "no_vowel_words[no_vowel_words['unique_vowels'] == 0]"
      ],
      "metadata": {
        "id": "Rlmmwd0_vfIM",
        "colab": {
          "base_uri": "https://localhost:8080/",
          "height": 457
        },
        "outputId": "84843a57-7e28-4ce6-bdae-fdb44428c6a4"
      },
      "execution_count": 13,
      "outputs": [
        {
          "output_type": "execute_result",
          "data": {
            "text/plain": [
              "        a    e    i    o    u   word  unique_vowels\n",
              "499   0.0  0.0  0.0  0.0  0.0  crypt            0.0\n",
              "609   0.0  0.0  0.0  0.0  0.0  dryly            0.0\n",
              "875   0.0  0.0  0.0  0.0  0.0  glyph            0.0\n",
              "945   0.0  0.0  0.0  0.0  0.0  gypsy            0.0\n",
              "1174  0.0  0.0  0.0  0.0  0.0  lymph            0.0\n",
              "1175  0.0  0.0  0.0  0.0  0.0  lynch            0.0\n",
              "1283  0.0  0.0  0.0  0.0  0.0  myrrh            0.0\n",
              "1320  0.0  0.0  0.0  0.0  0.0  nymph            0.0\n",
              "1503  0.0  0.0  0.0  0.0  0.0  pygmy            0.0\n",
              "1749  0.0  0.0  0.0  0.0  0.0  shyly            0.0\n",
              "1799  0.0  0.0  0.0  0.0  0.0  slyly            0.0\n",
              "2128  0.0  0.0  0.0  0.0  0.0  tryst            0.0\n",
              "2305  0.0  0.0  0.0  0.0  0.0  wryly            0.0"
            ],
            "text/html": [
              "\n",
              "  <div id=\"df-f792a26a-5f19-4147-b3f7-f54452926776\">\n",
              "    <div class=\"colab-df-container\">\n",
              "      <div>\n",
              "<style scoped>\n",
              "    .dataframe tbody tr th:only-of-type {\n",
              "        vertical-align: middle;\n",
              "    }\n",
              "\n",
              "    .dataframe tbody tr th {\n",
              "        vertical-align: top;\n",
              "    }\n",
              "\n",
              "    .dataframe thead th {\n",
              "        text-align: right;\n",
              "    }\n",
              "</style>\n",
              "<table border=\"1\" class=\"dataframe\">\n",
              "  <thead>\n",
              "    <tr style=\"text-align: right;\">\n",
              "      <th></th>\n",
              "      <th>a</th>\n",
              "      <th>e</th>\n",
              "      <th>i</th>\n",
              "      <th>o</th>\n",
              "      <th>u</th>\n",
              "      <th>word</th>\n",
              "      <th>unique_vowels</th>\n",
              "    </tr>\n",
              "  </thead>\n",
              "  <tbody>\n",
              "    <tr>\n",
              "      <th>499</th>\n",
              "      <td>0.0</td>\n",
              "      <td>0.0</td>\n",
              "      <td>0.0</td>\n",
              "      <td>0.0</td>\n",
              "      <td>0.0</td>\n",
              "      <td>crypt</td>\n",
              "      <td>0.0</td>\n",
              "    </tr>\n",
              "    <tr>\n",
              "      <th>609</th>\n",
              "      <td>0.0</td>\n",
              "      <td>0.0</td>\n",
              "      <td>0.0</td>\n",
              "      <td>0.0</td>\n",
              "      <td>0.0</td>\n",
              "      <td>dryly</td>\n",
              "      <td>0.0</td>\n",
              "    </tr>\n",
              "    <tr>\n",
              "      <th>875</th>\n",
              "      <td>0.0</td>\n",
              "      <td>0.0</td>\n",
              "      <td>0.0</td>\n",
              "      <td>0.0</td>\n",
              "      <td>0.0</td>\n",
              "      <td>glyph</td>\n",
              "      <td>0.0</td>\n",
              "    </tr>\n",
              "    <tr>\n",
              "      <th>945</th>\n",
              "      <td>0.0</td>\n",
              "      <td>0.0</td>\n",
              "      <td>0.0</td>\n",
              "      <td>0.0</td>\n",
              "      <td>0.0</td>\n",
              "      <td>gypsy</td>\n",
              "      <td>0.0</td>\n",
              "    </tr>\n",
              "    <tr>\n",
              "      <th>1174</th>\n",
              "      <td>0.0</td>\n",
              "      <td>0.0</td>\n",
              "      <td>0.0</td>\n",
              "      <td>0.0</td>\n",
              "      <td>0.0</td>\n",
              "      <td>lymph</td>\n",
              "      <td>0.0</td>\n",
              "    </tr>\n",
              "    <tr>\n",
              "      <th>1175</th>\n",
              "      <td>0.0</td>\n",
              "      <td>0.0</td>\n",
              "      <td>0.0</td>\n",
              "      <td>0.0</td>\n",
              "      <td>0.0</td>\n",
              "      <td>lynch</td>\n",
              "      <td>0.0</td>\n",
              "    </tr>\n",
              "    <tr>\n",
              "      <th>1283</th>\n",
              "      <td>0.0</td>\n",
              "      <td>0.0</td>\n",
              "      <td>0.0</td>\n",
              "      <td>0.0</td>\n",
              "      <td>0.0</td>\n",
              "      <td>myrrh</td>\n",
              "      <td>0.0</td>\n",
              "    </tr>\n",
              "    <tr>\n",
              "      <th>1320</th>\n",
              "      <td>0.0</td>\n",
              "      <td>0.0</td>\n",
              "      <td>0.0</td>\n",
              "      <td>0.0</td>\n",
              "      <td>0.0</td>\n",
              "      <td>nymph</td>\n",
              "      <td>0.0</td>\n",
              "    </tr>\n",
              "    <tr>\n",
              "      <th>1503</th>\n",
              "      <td>0.0</td>\n",
              "      <td>0.0</td>\n",
              "      <td>0.0</td>\n",
              "      <td>0.0</td>\n",
              "      <td>0.0</td>\n",
              "      <td>pygmy</td>\n",
              "      <td>0.0</td>\n",
              "    </tr>\n",
              "    <tr>\n",
              "      <th>1749</th>\n",
              "      <td>0.0</td>\n",
              "      <td>0.0</td>\n",
              "      <td>0.0</td>\n",
              "      <td>0.0</td>\n",
              "      <td>0.0</td>\n",
              "      <td>shyly</td>\n",
              "      <td>0.0</td>\n",
              "    </tr>\n",
              "    <tr>\n",
              "      <th>1799</th>\n",
              "      <td>0.0</td>\n",
              "      <td>0.0</td>\n",
              "      <td>0.0</td>\n",
              "      <td>0.0</td>\n",
              "      <td>0.0</td>\n",
              "      <td>slyly</td>\n",
              "      <td>0.0</td>\n",
              "    </tr>\n",
              "    <tr>\n",
              "      <th>2128</th>\n",
              "      <td>0.0</td>\n",
              "      <td>0.0</td>\n",
              "      <td>0.0</td>\n",
              "      <td>0.0</td>\n",
              "      <td>0.0</td>\n",
              "      <td>tryst</td>\n",
              "      <td>0.0</td>\n",
              "    </tr>\n",
              "    <tr>\n",
              "      <th>2305</th>\n",
              "      <td>0.0</td>\n",
              "      <td>0.0</td>\n",
              "      <td>0.0</td>\n",
              "      <td>0.0</td>\n",
              "      <td>0.0</td>\n",
              "      <td>wryly</td>\n",
              "      <td>0.0</td>\n",
              "    </tr>\n",
              "  </tbody>\n",
              "</table>\n",
              "</div>\n",
              "      <button class=\"colab-df-convert\" onclick=\"convertToInteractive('df-f792a26a-5f19-4147-b3f7-f54452926776')\"\n",
              "              title=\"Convert this dataframe to an interactive table.\"\n",
              "              style=\"display:none;\">\n",
              "        \n",
              "  <svg xmlns=\"http://www.w3.org/2000/svg\" height=\"24px\"viewBox=\"0 0 24 24\"\n",
              "       width=\"24px\">\n",
              "    <path d=\"M0 0h24v24H0V0z\" fill=\"none\"/>\n",
              "    <path d=\"M18.56 5.44l.94 2.06.94-2.06 2.06-.94-2.06-.94-.94-2.06-.94 2.06-2.06.94zm-11 1L8.5 8.5l.94-2.06 2.06-.94-2.06-.94L8.5 2.5l-.94 2.06-2.06.94zm10 10l.94 2.06.94-2.06 2.06-.94-2.06-.94-.94-2.06-.94 2.06-2.06.94z\"/><path d=\"M17.41 7.96l-1.37-1.37c-.4-.4-.92-.59-1.43-.59-.52 0-1.04.2-1.43.59L10.3 9.45l-7.72 7.72c-.78.78-.78 2.05 0 2.83L4 21.41c.39.39.9.59 1.41.59.51 0 1.02-.2 1.41-.59l7.78-7.78 2.81-2.81c.8-.78.8-2.07 0-2.86zM5.41 20L4 18.59l7.72-7.72 1.47 1.35L5.41 20z\"/>\n",
              "  </svg>\n",
              "      </button>\n",
              "      \n",
              "  <style>\n",
              "    .colab-df-container {\n",
              "      display:flex;\n",
              "      flex-wrap:wrap;\n",
              "      gap: 12px;\n",
              "    }\n",
              "\n",
              "    .colab-df-convert {\n",
              "      background-color: #E8F0FE;\n",
              "      border: none;\n",
              "      border-radius: 50%;\n",
              "      cursor: pointer;\n",
              "      display: none;\n",
              "      fill: #1967D2;\n",
              "      height: 32px;\n",
              "      padding: 0 0 0 0;\n",
              "      width: 32px;\n",
              "    }\n",
              "\n",
              "    .colab-df-convert:hover {\n",
              "      background-color: #E2EBFA;\n",
              "      box-shadow: 0px 1px 2px rgba(60, 64, 67, 0.3), 0px 1px 3px 1px rgba(60, 64, 67, 0.15);\n",
              "      fill: #174EA6;\n",
              "    }\n",
              "\n",
              "    [theme=dark] .colab-df-convert {\n",
              "      background-color: #3B4455;\n",
              "      fill: #D2E3FC;\n",
              "    }\n",
              "\n",
              "    [theme=dark] .colab-df-convert:hover {\n",
              "      background-color: #434B5C;\n",
              "      box-shadow: 0px 1px 3px 1px rgba(0, 0, 0, 0.15);\n",
              "      filter: drop-shadow(0px 1px 2px rgba(0, 0, 0, 0.3));\n",
              "      fill: #FFFFFF;\n",
              "    }\n",
              "  </style>\n",
              "\n",
              "      <script>\n",
              "        const buttonEl =\n",
              "          document.querySelector('#df-f792a26a-5f19-4147-b3f7-f54452926776 button.colab-df-convert');\n",
              "        buttonEl.style.display =\n",
              "          google.colab.kernel.accessAllowed ? 'block' : 'none';\n",
              "\n",
              "        async function convertToInteractive(key) {\n",
              "          const element = document.querySelector('#df-f792a26a-5f19-4147-b3f7-f54452926776');\n",
              "          const dataTable =\n",
              "            await google.colab.kernel.invokeFunction('convertToInteractive',\n",
              "                                                     [key], {});\n",
              "          if (!dataTable) return;\n",
              "\n",
              "          const docLinkHtml = 'Like what you see? Visit the ' +\n",
              "            '<a target=\"_blank\" href=https://colab.research.google.com/notebooks/data_table.ipynb>data table notebook</a>'\n",
              "            + ' to learn more about interactive tables.';\n",
              "          element.innerHTML = '';\n",
              "          dataTable['output_type'] = 'display_data';\n",
              "          await google.colab.output.renderOutput(dataTable, element);\n",
              "          const docLink = document.createElement('div');\n",
              "          docLink.innerHTML = docLinkHtml;\n",
              "          element.appendChild(docLink);\n",
              "        }\n",
              "      </script>\n",
              "    </div>\n",
              "  </div>\n",
              "  "
            ]
          },
          "metadata": {},
          "execution_count": 13
        }
      ]
    },
    {
      "cell_type": "markdown",
      "source": [
        "### 2A"
      ],
      "metadata": {
        "id": "yutz4hFjnajF"
      }
    },
    {
      "cell_type": "code",
      "source": [
        "#note: I have loaded the data locally. Was having issues with the link\n",
        "cars = pd.read_csv('data.csv')"
      ],
      "metadata": {
        "id": "JxqmgxqjqeqU"
      },
      "execution_count": 14,
      "outputs": []
    },
    {
      "cell_type": "code",
      "source": [
        "cars.shape"
      ],
      "metadata": {
        "colab": {
          "base_uri": "https://localhost:8080/"
        },
        "id": "8_rwGvoQqjDG",
        "outputId": "7ce1b0e5-0149-4546-f8dc-e36e9fad1b95"
      },
      "execution_count": 15,
      "outputs": [
        {
          "output_type": "execute_result",
          "data": {
            "text/plain": [
              "(11914, 16)"
            ]
          },
          "metadata": {},
          "execution_count": 15
        }
      ]
    },
    {
      "cell_type": "markdown",
      "source": [
        "There are 11914 rows and 16 columns"
      ],
      "metadata": {
        "id": "x4irpOJwqkxq"
      }
    },
    {
      "cell_type": "markdown",
      "source": [
        "### 2B"
      ],
      "metadata": {
        "id": "iN42n9M1i2WK"
      }
    },
    {
      "cell_type": "markdown",
      "source": [
        "Object types posted below. There's mix of object (categorical), integer, and float data types."
      ],
      "metadata": {
        "id": "ZHUbyIFljGxo"
      }
    },
    {
      "cell_type": "code",
      "source": [
        "cars.info()"
      ],
      "metadata": {
        "colab": {
          "base_uri": "https://localhost:8080/"
        },
        "id": "Ln3Yq5eFizG5",
        "outputId": "ccab45ad-38ca-48e8-a830-d74895680232"
      },
      "execution_count": 16,
      "outputs": [
        {
          "output_type": "stream",
          "name": "stdout",
          "text": [
            "<class 'pandas.core.frame.DataFrame'>\n",
            "RangeIndex: 11914 entries, 0 to 11913\n",
            "Data columns (total 16 columns):\n",
            " #   Column             Non-Null Count  Dtype  \n",
            "---  ------             --------------  -----  \n",
            " 0   Make               11914 non-null  object \n",
            " 1   Model              11914 non-null  object \n",
            " 2   Year               11914 non-null  int64  \n",
            " 3   Engine Fuel Type   11911 non-null  object \n",
            " 4   Engine HP          11845 non-null  float64\n",
            " 5   Engine Cylinders   11884 non-null  float64\n",
            " 6   Transmission Type  11914 non-null  object \n",
            " 7   Driven_Wheels      11914 non-null  object \n",
            " 8   Number of Doors    11908 non-null  float64\n",
            " 9   Market Category    8172 non-null   object \n",
            " 10  Vehicle Size       11914 non-null  object \n",
            " 11  Vehicle Style      11914 non-null  object \n",
            " 12  highway MPG        11914 non-null  int64  \n",
            " 13  city mpg           11914 non-null  int64  \n",
            " 14  Popularity         11914 non-null  int64  \n",
            " 15  MSRP               11914 non-null  int64  \n",
            "dtypes: float64(3), int64(5), object(8)\n",
            "memory usage: 1.5+ MB\n"
          ]
        }
      ]
    },
    {
      "cell_type": "markdown",
      "source": [
        "### 2C"
      ],
      "metadata": {
        "id": "jWdTvdsNj6WF"
      }
    },
    {
      "cell_type": "code",
      "source": [
        "np.mean(cars['MSRP'])"
      ],
      "metadata": {
        "colab": {
          "base_uri": "https://localhost:8080/"
        },
        "id": "div8AhdAjdy1",
        "outputId": "8b127faf-8d5d-4ecc-ee60-e7174215741b"
      },
      "execution_count": 17,
      "outputs": [
        {
          "output_type": "execute_result",
          "data": {
            "text/plain": [
              "40594.737032063116"
            ]
          },
          "metadata": {},
          "execution_count": 17
        }
      ]
    },
    {
      "cell_type": "markdown",
      "source": [
        "The mean of the variable MSRP is about 40594.74"
      ],
      "metadata": {
        "id": "huMKXCzrkRiK"
      }
    },
    {
      "cell_type": "markdown",
      "source": [
        "### 2D"
      ],
      "metadata": {
        "id": "Gldv_dSokY77"
      }
    },
    {
      "cell_type": "code",
      "source": [
        "#cars"
      ],
      "metadata": {
        "id": "qUm-1wF2kkNz"
      },
      "execution_count": 18,
      "outputs": []
    },
    {
      "cell_type": "code",
      "source": [
        "makes = cars.groupby('Make')['MSRP']\n",
        "makes.mean().sort_values(ascending = False)"
      ],
      "metadata": {
        "colab": {
          "base_uri": "https://localhost:8080/"
        },
        "id": "kMLt79KYkYpp",
        "outputId": "ac6675eb-3402-478c-b549-cbcef0e90ae5"
      },
      "execution_count": 19,
      "outputs": [
        {
          "output_type": "execute_result",
          "data": {
            "text/plain": [
              "Make\n",
              "Bugatti          1.757224e+06\n",
              "Maybach          5.462219e+05\n",
              "Rolls-Royce      3.511306e+05\n",
              "Lamborghini      3.315673e+05\n",
              "Bentley          2.471693e+05\n",
              "McLaren          2.398050e+05\n",
              "Ferrari          2.382188e+05\n",
              "Spyker           2.133233e+05\n",
              "Aston Martin     1.979104e+05\n",
              "Maserati         1.142077e+05\n",
              "Porsche          1.016224e+05\n",
              "Tesla            8.525556e+04\n",
              "Mercedes-Benz    7.147623e+04\n",
              "Lotus            6.918828e+04\n",
              "Land Rover       6.782322e+04\n",
              "Alfa Romeo       6.160000e+04\n",
              "BMW              6.154676e+04\n",
              "Cadillac         5.623132e+04\n",
              "Audi             5.345211e+04\n",
              "Lexus            4.754907e+04\n",
              "Genesis          4.661667e+04\n",
              "Lincoln          4.283983e+04\n",
              "Infiniti         4.239421e+04\n",
              "HUMMER           3.646441e+04\n",
              "Acura            3.488759e+04\n",
              "GMC              3.049330e+04\n",
              "Toyota           2.903002e+04\n",
              "Nissan           2.858343e+04\n",
              "Volvo            2.854116e+04\n",
              "Chevrolet        2.835039e+04\n",
              "Buick            2.820661e+04\n",
              "Volkswagen       2.810238e+04\n",
              "Saab             2.741350e+04\n",
              "Ford             2.739927e+04\n",
              "Chrysler         2.672296e+04\n",
              "Honda            2.667434e+04\n",
              "Kia              2.531017e+04\n",
              "Subaru           2.482750e+04\n",
              "Hyundai          2.459704e+04\n",
              "FIAT             2.267024e+04\n",
              "Dodge            2.239006e+04\n",
              "Mitsubishi       2.124054e+04\n",
              "Mazda            2.003938e+04\n",
              "Scion            1.993250e+04\n",
              "Pontiac          1.932155e+04\n",
              "Suzuki           1.790721e+04\n",
              "Oldsmobile       1.154254e+04\n",
              "Plymouth         3.122902e+03\n",
              "Name: MSRP, dtype: float64"
            ]
          },
          "metadata": {},
          "execution_count": 19
        }
      ]
    },
    {
      "cell_type": "markdown",
      "source": [
        "### 2E"
      ],
      "metadata": {
        "id": "bpTNC3iSssoi"
      }
    },
    {
      "cell_type": "code",
      "source": [
        "cars['Number of Doors'].fillna(value = 0,\n",
        "          inplace = True)\n",
        "\n",
        "cars['VehicleSize_tfm'] = LabelEncoder().fit_transform(cars['Vehicle Size'])\n",
        "\n",
        "X_a = cars[['VehicleSize_tfm', 'Year']]\n",
        "X_b = cars[['Number of Doors', 'highway MPG']]\n",
        "y = cars['MSRP']"
      ],
      "metadata": {
        "id": "SeIIjFoysubK"
      },
      "execution_count": 20,
      "outputs": []
    },
    {
      "cell_type": "code",
      "source": [
        "#same as 2D but listed w/ encoded values\n",
        "makes_encoded = cars.groupby(['Vehicle Size', 'VehicleSize_tfm'])['MSRP']\n",
        "makes_encoded.mean().sort_values(ascending = False)"
      ],
      "metadata": {
        "colab": {
          "base_uri": "https://localhost:8080/"
        },
        "id": "bd0Ow3tMNMd5",
        "outputId": "045250c8-bbf6-4943-e156-69fcfb2f9411"
      },
      "execution_count": 21,
      "outputs": [
        {
          "output_type": "execute_result",
          "data": {
            "text/plain": [
              "Vehicle Size  VehicleSize_tfm\n",
              "Large         1                  53890.500540\n",
              "Midsize       2                  39035.919049\n",
              "Compact       0                  34275.336482\n",
              "Name: MSRP, dtype: float64"
            ]
          },
          "metadata": {},
          "execution_count": 21
        }
      ]
    },
    {
      "cell_type": "code",
      "source": [
        "#make and year\n",
        "X_train_a, X_test_a, y_train_a, y_test_a = train_test_split(X_a, y, test_size=0.20, random_state=34)\n",
        "\n",
        "#num doors and mpg\n",
        "X_train_b, X_test_b, y_train_b, y_test_b = train_test_split(X_b, y, test_size=0.20, random_state=34)\n",
        "\n",
        "model1 = LinearRegression().fit(X_train_a, y_train_a)\n",
        "model2 = LinearRegression().fit(X_train_b, y_train_b)"
      ],
      "metadata": {
        "id": "mM3lA1UJ1QgP"
      },
      "execution_count": 22,
      "outputs": []
    },
    {
      "cell_type": "code",
      "source": [
        "print(model1.coef_, model1.intercept_)\n",
        "print(model2.coef_, model2.intercept_)"
      ],
      "metadata": {
        "colab": {
          "base_uri": "https://localhost:8080/"
        },
        "id": "6wYEM3WQOaRv",
        "outputId": "7cf90731-6a89-449c-e0ad-1ce9c8510db2"
      },
      "execution_count": 23,
      "outputs": [
        {
          "output_type": "stream",
          "name": "stdout",
          "text": [
            "[ 518.72907609 1787.2434366 ] -3553297.4850351126\n",
            "[-7941.41306811  -926.434174  ] 92436.17898572952\n"
          ]
        }
      ]
    },
    {
      "cell_type": "markdown",
      "source": [
        "Model 1: MSRP = 518.73 * Size + 1787.2 * Year - 3553297.5\n",
        "\n",
        "Model 2: MSRP = -7941.4 * NumDoors - 926.4 * highwayMPG + 92436.2"
      ],
      "metadata": {
        "id": "B32cTp4reGjZ"
      }
    },
    {
      "cell_type": "markdown",
      "source": [
        "### 2F"
      ],
      "metadata": {
        "id": "LgdbM9imfRLL"
      }
    },
    {
      "cell_type": "code",
      "source": [
        "m1_preds_train = model1.predict(X_train_a.iloc[[0]]) #Size: Midsize, Year: 1998\n",
        "m1_preds_test = model1.predict(X_test_a.iloc[[0]]) #Size: Compact, Year: 2016\n",
        "m2_preds_train = model2.predict(X_train_b.iloc[[0]]) #NumDoors: 4, MPG: 23\n",
        "m2_preds_test = model2.predict(X_test_b.iloc[[0]]) #NumDoors: 2, MPG: 21\n",
        "\n",
        "print('Model 1 w/ train: %f \\nModel 1 w/ test: %f \\nModel 2 w/ train: %f \\nModel 2 w/ test: %f' \n",
        "      % (m1_preds_train, m1_preds_test, m2_preds_train, m2_preds_test))\n",
        "\n",
        "#X_train_a.iloc[[0]]"
      ],
      "metadata": {
        "colab": {
          "base_uri": "https://localhost:8080/"
        },
        "id": "GSMhssffeqMN",
        "outputId": "71d3206d-2ba2-4ecb-8be4-06dfe971a276"
      },
      "execution_count": 24,
      "outputs": [
        {
          "output_type": "stream",
          "name": "stdout",
          "text": [
            "Model 1 w/ train: 18652.359444 \n",
            "Model 1 w/ test: 49785.283150 \n",
            "Model 2 w/ train: 39362.540711 \n",
            "Model 2 w/ test: 57098.235195\n"
          ]
        }
      ]
    },
    {
      "cell_type": "markdown",
      "source": [
        "### 2G"
      ],
      "metadata": {
        "id": "CT45fdagoXSt"
      }
    },
    {
      "cell_type": "code",
      "source": [
        "#make predictions for all rows\n",
        "y_pred_m1 = model1.predict(X_train_a)\n",
        "y_pred_m2 = model2.predict(X_train_b)\n",
        "\n",
        "print('MSE m1: %f, MSE m2: %f'\n",
        "%(mean_squared_error(y_train_a, y_pred_m1), mean_squared_error(y_train_b, y_pred_m2)))"
      ],
      "metadata": {
        "colab": {
          "base_uri": "https://localhost:8080/"
        },
        "outputId": "8479b3db-766f-4094-9844-ef3aa11233f1",
        "id": "AOW3alreoaQ3"
      },
      "execution_count": 25,
      "outputs": [
        {
          "output_type": "stream",
          "name": "stdout",
          "text": [
            "MSE m1: 3262659199.973437, MSE m2: 3314060925.421279\n"
          ]
        }
      ]
    },
    {
      "cell_type": "markdown",
      "source": [
        "The MSE's are super high interestingly, but overall the first model fits the data better. Better is a choice term, though, because the MSE is huge. I used Mean Squared Error (MSE) which squares the residuals and takes the average."
      ],
      "metadata": {
        "id": "n0vZG36KrDsG"
      }
    },
    {
      "cell_type": "markdown",
      "source": [
        "### 2H"
      ],
      "metadata": {
        "id": "GDiGzYfhkG9y"
      }
    },
    {
      "cell_type": "code",
      "source": [
        "#make predictions for all rows\n",
        "y_pred_m1 = model1.predict(X_test_a)\n",
        "y_pred_m2 = model2.predict(X_test_b)\n",
        "\n",
        "print('MSE m1: %f, MSE m2: %f'\n",
        "%(mean_squared_error(y_test_a, y_pred_m1), mean_squared_error(y_test_b, y_pred_m2)))\n",
        "\n"
      ],
      "metadata": {
        "colab": {
          "base_uri": "https://localhost:8080/"
        },
        "id": "JK8XeqrbkI5y",
        "outputId": "37f33b65-2ba5-4475-df4f-fd392426943c"
      },
      "execution_count": 31,
      "outputs": [
        {
          "output_type": "stream",
          "name": "stdout",
          "text": [
            "MSE m1: 4075489791.712329, MSE m2: 4117719507.128470\n"
          ]
        },
        {
          "output_type": "execute_result",
          "data": {
            "text/plain": [
              "8509    34815\n",
              "Name: MSRP, dtype: int64"
            ]
          },
          "metadata": {},
          "execution_count": 31
        }
      ]
    },
    {
      "cell_type": "markdown",
      "source": [
        "Model 1 works better on the test data as well. Expectedly, both of the models fit better on the training data."
      ],
      "metadata": {
        "id": "S0emrixgtJj1"
      }
    }
  ]
}